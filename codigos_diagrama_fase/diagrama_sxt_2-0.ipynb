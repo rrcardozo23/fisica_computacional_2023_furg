{
 "cells": [
  {
   "cell_type": "code",
   "execution_count": 16,
   "id": "7428a479-d6b2-4ac0-92c8-43e1c05ee40f",
   "metadata": {},
   "outputs": [],
   "source": [
    "import re\n",
    "import numpy as np\n",
    "import pandas as pd\n",
    "\n",
    "# Função para extrair valores inteiros de uma linha\n",
    "def extrair_valores_inteiros(linha):\n",
    "    return list(map(int, re.findall(r'\\b\\d+\\b', linha)))\n",
    "\n",
    "# Função para extrair valores flutuantes de uma linha\n",
    "def extrair_valores_flutuantes(linha):\n",
    "    return list(map(float, re.findall(r'[-+]?\\d*\\.\\d+|\\d+', linha)))\n",
    "\n",
    "# Fator de conversão de kcal/mol para kJ/mol\n",
    "fator_conversao = 4.184\n",
    "\n",
    "# Ler o arquivo e filtrar linhas contendo a frase desejada para entropia e temperatura\n",
    "with open('/home/rodrigo/Área de trabalho/diagrama_SxT_benzeno/sxt_benzeno.txt', 'r') as file:\n",
    "    linhas_filtradas = [linha.strip() for linha in file if \"Final entropy term\" in linha or \"THERMOCHEMISTRY\" in linha]\n",
    "\n",
    "# Separar linhas relevantes para entropia e temperatura\n",
    "linhas_entropia = [linha for linha in linhas_filtradas if \"Final entropy term\" in linha]\n",
    "linhas_temperatura = [linha for linha in linhas_filtradas if \"THERMOCHEMISTRY\" in linha]\n",
    "\n",
    "# Converter as linhas de entropia em uma lista de números flutuantes\n",
    "valores_entropia = [extrair_valores_flutuantes(linha) for linha in linhas_entropia]\n",
    "\n",
    "# Converter as linhas de temperatura em uma lista de inteiros\n",
    "valores_temperatura = [extrair_valores_inteiros(linha) for linha in linhas_temperatura]\n",
    "\n",
    "# Certificar-se de que ambas as matrizes têm o mesmo número de linhas\n",
    "min_linhas = min(len(valores_entropia), len(valores_temperatura))\n",
    "valores_entropia = valores_entropia[:min_linhas]\n",
    "valores_temperatura = valores_temperatura[:min_linhas]\n",
    "\n",
    "# Criar a matriz de entropia usando numpy\n",
    "matriz_entropia = np.array(valores_entropia)\n",
    "\n",
    "# Converter os valores da primeira coluna da entropia de kcal/mol para kJ/mol\n",
    "matriz_entropia[:, 0] *= fator_conversao\n",
    "\n",
    "# Excluir a primeira coluna da matriz de entropia\n",
    "matriz_entropia_sem_primeira_coluna = matriz_entropia[:, 1:]\n",
    "\n",
    "# Criar a matriz de temperatura usando numpy\n",
    "matriz_temperatura = np.array(valores_temperatura)\n",
    "\n",
    "# Ler o arquivo original para obter os valores de Pressão\n",
    "with open('/home/rodrigo/Área de trabalho/diagrama_SxT_benzeno/sxt_benzeno.txt', 'r') as file:\n",
    "    linhas_pressao = [linha.strip() for linha in file if \"Pressure\" in linha]\n",
    "\n",
    "# Extrair todos os valores de Pressão\n",
    "valores_pressao = [int(re.search(r'\\b(\\d+)\\b', linha).group(1)) for linha in linhas_pressao]\n",
    "\n",
    "# Certificar-se de que todas as matrizes têm o mesmo número de linhas\n",
    "valores_pressao = valores_pressao[:min_linhas]\n",
    "\n",
    "# Criar a matriz final com três colunas (S, T, P), excluindo a primeira coluna\n",
    "matriz_final = np.column_stack((matriz_entropia[:, 1:], matriz_temperatura, valores_pressao))\n",
    "\n",
    "# Criar um DataFrame com cabeçalhos e valores formatados\n",
    "df = pd.DataFrame(matriz_final, columns=[\"S(kcal/mol)\", \"T(K)\", \"P(atm)\"])\n",
    "\n",
    "# Salvar o DataFrame em um novo arquivo de texto\n",
    "df.to_csv('/home/rodrigo/Área de trabalho/diagrama_fase.txt', index=False, float_format='%.2f', sep='\\t', header=True)\n",
    "\n",
    "\n"
   ]
  },
  {
   "cell_type": "code",
   "execution_count": 5,
   "id": "4a62cd51-076d-4269-ac7e-94695090b823",
   "metadata": {},
   "outputs": [
    {
     "name": "stdout",
     "output_type": "stream",
     "text": [
      "/bin/bash: /home/rodrigo/anaconda3/lib/libtinfo.so.6: no version information available (required by /bin/bash)\r\n",
      "\u001b[H\u001b[2J"
     ]
    }
   ],
   "source": [
    "clear"
   ]
  },
  {
   "cell_type": "code",
   "execution_count": 11,
   "id": "2f606ed7",
   "metadata": {},
   "outputs": [
    {
     "name": "stdout",
     "output_type": "stream",
     "text": [
      "/bin/bash: /home/rodrigo/anaconda3/lib/libtinfo.so.6: no version information available (required by /bin/bash)\n",
      "\u001b[H\u001b[2J"
     ]
    }
   ],
   "source": [
    "clear"
   ]
  },
  {
   "cell_type": "code",
   "execution_count": 8,
   "id": "2f13ee24",
   "metadata": {},
   "outputs": [],
   "source": []
  },
  {
   "cell_type": "code",
   "execution_count": 9,
   "id": "6c5621f4",
   "metadata": {},
   "outputs": [],
   "source": []
  },
  {
   "cell_type": "code",
   "execution_count": 14,
   "id": "dc7c0a9e",
   "metadata": {},
   "outputs": [],
   "source": [
    "import re\n",
    "import numpy as np\n",
    "import pandas as pd\n",
    "\n",
    "# Função para extrair valores inteiros de uma linha\n",
    "def extrair_valores_inteiros(linha):\n",
    "    return list(map(int, re.findall(r'\\b\\d+\\b', linha)))\n",
    "\n",
    "# Função para extrair valores flutuantes de uma linha\n",
    "def extrair_valores_flutuantes(linha):\n",
    "    return list(map(float, re.findall(r'[-+]?\\d*\\.\\d+|\\d+', linha)))\n",
    "\n",
    "# Ler o arquivo e filtrar linhas contendo a frase desejada para entropia e temperatura\n",
    "with open('/home/rodrigo/Área de trabalho/diagrama_SxT_benzeno/sxt_benzeno.txt', 'r') as file:\n",
    "    linhas_filtradas = [linha.strip() for linha in file if \"Final entropy term\" in linha or \"THERMOCHEMISTRY\" in linha]\n",
    "\n",
    "# Separar linhas relevantes para entropia e temperatura\n",
    "linhas_entropia = [linha for linha in linhas_filtradas if \"Final entropy term\" in linha]\n",
    "linhas_temperatura = [linha for linha in linhas_filtradas if \"THERMOCHEMISTRY\" in linha]\n",
    "\n",
    "# Converter as linhas de entropia em uma lista de números flutuantes\n",
    "valores_entropia = [extrair_valores_flutuantes(linha) for linha in linhas_entropia]\n",
    "\n",
    "# Converter as linhas de temperatura em uma lista de inteiros\n",
    "valores_temperatura = [extrair_valores_inteiros(linha) for linha in linhas_temperatura]\n",
    "\n",
    "# Certificar-se de que ambas as matrizes têm o mesmo número de linhas\n",
    "min_linhas = min(len(valores_entropia), len(valores_temperatura))\n",
    "valores_entropia = valores_entropia[:min_linhas]\n",
    "valores_temperatura = valores_temperatura[:min_linhas]\n",
    "\n",
    "# Criar a matriz de entropia usando numpy\n",
    "matriz_entropia = np.array(valores_entropia)\n",
    "\n",
    "# Converter os valores da primeira coluna da entropia de kcal/mol para kJ/mol\n",
    "fator_conversao = 4.184\n",
    "matriz_entropia[:, 0] *= fator_conversao\n",
    "\n",
    "# Excluir a primeira coluna da matriz de entropia\n",
    "matriz_entropia_sem_primeira_coluna = matriz_entropia[:, 1:]\n",
    "\n",
    "# Criar a matriz de temperatura usando numpy\n",
    "matriz_temperatura = np.array(valores_temperatura)\n",
    "\n",
    "# Ler o arquivo original para obter os valores de Pressão\n",
    "with open('/home/rodrigo/Área de trabalho/diagrama_SxT_benzeno/sxt_benzeno.txt', 'r') as file:\n",
    "    linhas_pressao = [linha.strip() for linha in file if \"Pressure\" in linha]\n",
    "\n",
    "# Extrair todos os valores de Pressão\n",
    "valores_pressao = [int(re.search(r'\\b(\\d+)\\b', linha).group(1)) for linha in linhas_pressao]\n",
    "\n",
    "# Certificar-se de que todas as matrizes têm o mesmo número de linhas\n",
    "valores_pressao = valores_pressao[:min_linhas]\n",
    "\n",
    "# Criar o DataFrame com três colunas (S, T, P)\n",
    "df = pd.DataFrame({'S(kJ/mol)': matriz_entropia_sem_primeira_coluna[:, 0],\n",
    "                   'T(K)': matriz_temperatura[:, 0],\n",
    "                   'P(atm)': valores_pressao})\n",
    "\n",
    "# Ajustar o formato de exibição para melhorar o alinhamento\n",
    "pd.set_option('display.float_format', '{:,.2f}'.format)\n",
    "\n",
    "# Salvar o DataFrame em um novo arquivo de texto\n",
    "df.to_csv('/home/rodrigo/Área de trabalho/diagrama_fase.txt', index=False, float_format='%.2f', sep='\\t', header=True)\n"
   ]
  },
  {
   "cell_type": "code",
   "execution_count": null,
   "id": "4c028c7a",
   "metadata": {},
   "outputs": [],
   "source": []
  }
 ],
 "metadata": {
  "kernelspec": {
   "display_name": "Python 3 (ipykernel)",
   "language": "python",
   "name": "python3"
  },
  "language_info": {
   "codemirror_mode": {
    "name": "ipython",
    "version": 3
   },
   "file_extension": ".py",
   "mimetype": "text/x-python",
   "name": "python",
   "nbconvert_exporter": "python",
   "pygments_lexer": "ipython3",
   "version": "3.11.5"
  },
  "toc-showcode": true
 },
 "nbformat": 4,
 "nbformat_minor": 5
}
